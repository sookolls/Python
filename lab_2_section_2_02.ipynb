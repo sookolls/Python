{
 "cells": [
  {
   "cell_type": "markdown",
   "id": "e30264da",
   "metadata": {},
   "source": [
    "**Задача 1: Система управления библиотекой**\n",
    "\n",
    "Создайте систему управления библиотекой используя collections:\n",
    "\n",
    "1. Создайте namedtuple `Book` с полями: title, author, isbn, year\n",
    "2. Создайте namedtuple `Reader` с полями: name, reader_id, phone\n",
    "3. Используйте `defaultdict(list)` для хранения книг по жанрам\n",
    "4. Используйте `deque` для очереди читателей, ожидающих популярную книгу\n",
    "5. Используйте `Counter` для подсчета количества книг каждого автора\n",
    "6. Используйте `OrderedDict` для хранения истории выдачи книг (читатель -> список книг)\n",
    "7. Сериализуйте все данные в JSON и pickle форматы"
   ]
  },
  {
   "cell_type": "code",
   "execution_count": null,
   "id": "bc9214d1",
   "metadata": {},
   "outputs": [],
   "source": [
    "from collections import namedtuple, defaultdict, deque, Counter, OrderedDict\n",
    "from typing import NamedTuple \n",
    "import json, pickle\n",
    "\n",
    "Book = namedtuple('Book', ['title', 'author', 'isbn', 'year'])\n",
    "Reader = namedtuple('Reader', ['name', 'reader_id', 'phone'])\n",
    "book_genre = defaultdict(list)\n",
    "queue_readers = deque()\n",
    "queue_readers.append(Reader('','',''))\n",
    "c = Counter()\n",
    "od = OrderedDict()\n",
    "od[]=[]\n",
    "\n",
    "\n"
   ]
  },
  {
   "cell_type": "markdown",
   "id": "00ea1fdb",
   "metadata": {},
   "source": [
    "**Задача 2: Анализатор файловой системы**\n",
    "\n",
    "Создайте анализатор файловой системы используя os и sys:\n",
    "\n",
    "1. Создайте namedtuple `FileInfo` с полями: name, size, extension, modified_time\n",
    "2. Используйте `os.walk()` для обхода директории\n",
    "3. Используйте `os.path` функции для получения информации о файлах\n",
    "4. Используйте `Counter` для подсчета файлов по расширениям\n",
    "5. Используйте `defaultdict(list)` для группировки файлов по размеру (маленькие < 1MB, средние 1-100MB, большие > 100MB)\n",
    "6. Используйте `deque` для хранения последних 10 найденных файлов\n",
    "7. Выведите статистику используя `sys.getsizeof()` для подсчета памяти\n",
    "8. Сохраните результаты в JSON файл"
   ]
  },
  {
   "cell_type": "code",
   "execution_count": null,
   "id": "f939b12d",
   "metadata": {},
   "outputs": [],
   "source": []
  },
  {
   "cell_type": "markdown",
   "id": "acbf7ad9",
   "metadata": {},
   "source": [
    "**Задача 3: Система конфигурации приложения**\n",
    "\n",
    "Создайте систему конфигурации используя ChainMap и defaultdict:\n",
    "\n",
    "1. Создайте namedtuple `Config` с полями: key, value, section, default_value\n",
    "2. Создайте несколько словарей конфигурации (default, user, environment)\n",
    "3. Используйте `ChainMap` для объединения конфигураций с приоритетом\n",
    "4. Используйте `defaultdict(dict)` для группировки настроек по секциям\n",
    "5. Используйте `OrderedDict` для сохранения порядка загрузки конфигураций\n",
    "6. Используйте `os.environ` для чтения переменных окружения\n",
    "7. Сериализуйте конфигурацию в JSON и pickle форматы"
   ]
  },
  {
   "cell_type": "code",
   "execution_count": null,
   "id": "21929d53",
   "metadata": {},
   "outputs": [],
   "source": []
  },
  {
   "cell_type": "markdown",
   "id": "4bfc52c0",
   "metadata": {},
   "source": [
    "**Задача 4: Мониторинг системы**\n",
    "\n",
    "Создайте систему мониторинга используя sys и os:\n",
    "\n",
    "1. Создайте namedtuple `SystemInfo` с полями: cpu_count, memory_usage, process_id, user_name\n",
    "2. Используйте `os.cpu_count()` для получения количества процессоров\n",
    "3. Используйте `sys.getallocatedblocks()` для мониторинга памяти\n",
    "4. Используйте `os.getpid()` и `os.getlogin()` для информации о процессе\n",
    "5. Используйте `deque` для хранения последних 20 измерений\n",
    "6. Используйте `Counter` для подсчета частоты использования различных функций\n",
    "7. Используйте `defaultdict(list)` для группировки измерений по времени\n",
    "8. Сохраните историю мониторинга в pickle файл\n"
   ]
  },
  {
   "cell_type": "code",
   "execution_count": null,
   "id": "9d32353d",
   "metadata": {},
   "outputs": [],
   "source": []
  },
  {
   "cell_type": "markdown",
   "id": "f8870b90",
   "metadata": {},
   "source": [
    "**Задача 5: Система логирования**\n",
    "\n",
    "Создайте систему логирования используя все изученные коллекции:\n",
    "\n",
    "1. Создайте namedtuple `LogEntry` с полями: timestamp, level, message, module, function\n",
    "2. Используйте `deque` для хранения последних 100 логов (кольцевой буфер)\n",
    "3. Используйте `defaultdict(list)` для группировки логов по уровням (DEBUG, INFO, WARNING, ERROR)\n",
    "4. Используйте `Counter` для подсчета количества логов каждого уровня\n",
    "5. Используйте `OrderedDict` для хранения логов по времени (FIFO)\n",
    "6. Используйте `ChainMap` для объединения различных источников логов\n",
    "7. Используйте `os.path` для работы с файлами логов\n",
    "8. Сериализуйте логи в JSON и pickle форматы\n"
   ]
  },
  {
   "cell_type": "code",
   "execution_count": null,
   "id": "1554dfa4",
   "metadata": {},
   "outputs": [],
   "source": []
  },
  {
   "cell_type": "markdown",
   "id": "cf575634",
   "metadata": {},
   "source": [
    "**Задача 6: Кэш-система**\n",
    "\n",
    "Создайте простую кэш-систему используя collections:\n",
    "\n",
    "1. Создайте namedtuple `CacheEntry` с полями: key, value, timestamp, access_count\n",
    "2. Используйте `OrderedDict` для реализации LRU (Least Recently Used) кэша\n",
    "3. Используйте `deque` для хранения истории доступа к ключам\n",
    "4. Используйте `Counter` для подсчета частоты доступа к каждому ключу\n",
    "5. Используйте `defaultdict(int)` для хранения счетчиков доступа\n",
    "6. Реализуйте методы: get, set, delete, clear, size\n",
    "7. Используйте `sys.getsizeof()` для мониторинга размера кэша\n",
    "8. Сериализуйте кэш в pickle формат для сохранения между сессиями\n"
   ]
  },
  {
   "cell_type": "code",
   "execution_count": null,
   "id": "a03141c9",
   "metadata": {},
   "outputs": [],
   "source": []
  },
  {
   "cell_type": "markdown",
   "id": "0e79981b",
   "metadata": {},
   "source": [
    "**Задача 7: Анализатор текста**\n",
    "\n",
    "Создайте анализатор текста используя collections:\n",
    "\n",
    "1. Создайте namedtuple `WordInfo` с полями: word, frequency, length, first_occurrence\n",
    "2. Используйте `Counter` для подсчета частоты слов\n",
    "3. Используйте `defaultdict(list)` для группировки слов по длине\n",
    "4. Используйте `deque` для хранения последних 50 уникальных слов\n",
    "5. Используйте `OrderedDict` для хранения слов в порядке первого появления\n",
    "6. Используйте `os.path` для работы с текстовыми файлами\n",
    "7. Используйте `sys.getsizeof()` для анализа памяти\n",
    "8. Сохраните результаты анализа в JSON файл\n"
   ]
  },
  {
   "cell_type": "code",
   "execution_count": null,
   "id": "2edbc2d3",
   "metadata": {},
   "outputs": [],
   "source": []
  },
  {
   "cell_type": "markdown",
   "id": "548f76b8",
   "metadata": {},
   "source": [
    "**Задача 8: Система управления задачами**\n",
    "\n",
    "Создайте систему управления задачами (TODO) используя все изученные концепции:\n",
    "\n",
    "1. Создайте namedtuple `Task` с полями: id, title, description, priority, status, created_date\n",
    "2. Используйте `defaultdict(list)` для группировки задач по статусу (todo, in_progress, done)\n",
    "3. Используйте `deque` для очереди задач с высоким приоритетом\n",
    "4. Используйте `Counter` для подсчета задач по приоритету\n",
    "5. Используйте `OrderedDict` для хранения задач в порядке создания\n",
    "6. Используйте `ChainMap` для объединения различных списков задач\n",
    "7. Используйте `os.path` для работы с файлами задач\n",
    "8. Реализуйте функции: add_task, complete_task, get_tasks_by_status, get_priority_queue\n",
    "9. Сериализуйте все данные в JSON и pickle форматы\n"
   ]
  },
  {
   "cell_type": "code",
   "execution_count": null,
   "id": "aa937938",
   "metadata": {},
   "outputs": [],
   "source": []
  },
  {
   "cell_type": "markdown",
   "id": "37042a40",
   "metadata": {},
   "source": [
    "**Задача 9: Система мониторинга производительности**\n",
    "\n",
    "Создайте систему мониторинга производительности используя sys и collections:\n",
    "\n",
    "1. Создайте namedtuple `PerformanceMetric` с полями: function_name, execution_time, memory_usage, timestamp\n",
    "2. Используйте `deque` для хранения последних 100 измерений производительности\n",
    "3. Используйте `defaultdict(list)` для группировки метрик по функциям\n",
    "4. Используйте `Counter` для подсчета количества вызовов каждой функции\n",
    "5. Используйте `OrderedDict` для хранения метрик в хронологическом порядке\n",
    "6. Используйте `sys.getsizeof()` для мониторинга памяти\n",
    "7. Используйте `os.path` для работы с файлами метрик\n",
    "8. Реализуйте функции: record_metric, get_function_stats, get_memory_usage, export_metrics\n",
    "9. Сериализуйте метрики в JSON и pickle форматы\n"
   ]
  },
  {
   "cell_type": "code",
   "execution_count": null,
   "id": "2a0699ea",
   "metadata": {},
   "outputs": [],
   "source": []
  },
  {
   "cell_type": "markdown",
   "id": "f24490e6",
   "metadata": {},
   "source": [
    "**Задача 10: Комплексная система управления данными**\n",
    "\n",
    "Создайте комплексную систему управления данными, объединяющую все изученные концепции:\n",
    "\n",
    "1. Создайте несколько namedtuple для различных типов данных (User, Product, Order, etc.)\n",
    "2. Используйте `defaultdict` для создания индексов по различным полям\n",
    "3. Используйте `deque` для реализации очередей обработки данных\n",
    "4. Используйте `Counter` для аналитики и статистики\n",
    "5. Используйте `OrderedDict` для хранения данных в определенном порядке\n",
    "6. Используйте `ChainMap` для объединения различных источников данных\n",
    "7. Используйте `os` и `sys` для работы с файловой системой и мониторинга\n",
    "8. Реализуйте CRUD операции (Create, Read, Update, Delete)\n",
    "9. Добавьте функции экспорта/импорта данных в различных форматах\n",
    "10. Сериализуйте все данные в JSON, pickle и другие форматы\n",
    "11. Добавьте типизацию для всех функций и классов\n",
    "12. Реализуйте систему логирования для отслеживания операций\n"
   ]
  },
  {
   "cell_type": "code",
   "execution_count": null,
   "id": "015343c9",
   "metadata": {},
   "outputs": [],
   "source": []
  }
 ],
 "metadata": {
  "language_info": {
   "name": "python"
  }
 },
 "nbformat": 4,
 "nbformat_minor": 5
}
