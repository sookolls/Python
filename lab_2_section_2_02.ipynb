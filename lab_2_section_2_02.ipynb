{
 "cells": [
  {
   "cell_type": "markdown",
   "id": "e30264da",
   "metadata": {},
   "source": [
    "**Задача 1: Система управления библиотекой**\n",
    "\n",
    "Создайте систему управления библиотекой используя collections:\n",
    "\n",
    "1. Создайте namedtuple `Book` с полями: title, author, isbn, year\n",
    "2. Создайте namedtuple `Reader` с полями: name, reader_id, phone\n",
    "3. Используйте `defaultdict(list)` для хранения книг по жанрам\n",
    "4. Используйте `deque` для очереди читателей, ожидающих популярную книгу\n",
    "5. Используйте `Counter` для подсчета количества книг каждого автора\n",
    "6. Используйте `OrderedDict` для хранения истории выдачи книг (читатель -> список книг)\n",
    "7. Сериализуйте все данные в JSON и pickle форматы"
   ]
  },
  {
   "cell_type": "code",
   "execution_count": null,
   "id": "bc9214d1",
   "metadata": {},
   "outputs": [],
   "source": [
    "from collections import namedtuple, defaultdict, deque, Counter, OrderedDict\n",
    "from typing import NamedTuple \n",
    "import json, pickle\n",
    "\n",
    "Book = namedtuple('Book', ['title', 'author', 'isbn', 'year'])\n",
    "Reader = namedtuple('Reader', ['name', 'reader_id', 'phone'])\n",
    "book_genre = defaultdict(list)\n",
    "queue_readers = deque()\n",
    "queue_readers.append(Reader('','',''))\n",
    "c = Counter()\n",
    "od = OrderedDict()\n",
    "od[]=[]\n",
    "\n",
    "\n"
   ]
  },
  {
   "cell_type": "markdown",
   "id": "00ea1fdb",
   "metadata": {},
   "source": [
    "**Задача 2: Анализатор файловой системы**\n",
    "\n",
    "Создайте анализатор файловой системы используя os и sys:\n",
    "\n",
    "1. Создайте namedtuple `FileInfo` с полями: name, size, extension, modified_time\n",
    "2. Используйте `os.walk()` для обхода директории\n",
    "3. Используйте `os.path` функции для получения информации о файлах\n",
    "4. Используйте `Counter` для подсчета файлов по расширениям\n",
    "5. Используйте `defaultdict(list)` для группировки файлов по размеру (маленькие < 1MB, средние 1-100MB, большие > 100MB)\n",
    "6. Используйте `deque` для хранения последних 10 найденных файлов\n",
    "7. Выведите статистику используя `sys.getsizeof()` для подсчета памяти\n",
    "8. Сохраните результаты в JSON файл"
   ]
  },
  {
   "cell_type": "code",
   "execution_count": null,
   "id": "f939b12d",
   "metadata": {},
   "outputs": [],
   "source": []
  }
 ],
 "metadata": {
  "language_info": {
   "name": "python"
  }
 },
 "nbformat": 4,
 "nbformat_minor": 5
}
