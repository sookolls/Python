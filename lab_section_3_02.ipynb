{
 "cells": [
  {
   "cell_type": "code",
   "execution_count": 10,
   "id": "5a863639",
   "metadata": {},
   "outputs": [],
   "source": [
    "from abc import ABC, abstractmethod\n",
    "import math\n",
    "from datetime import datetime\n",
    "import time\n",
    "from scipy.stats import norm\n",
    "\n",
    "class AbstractAsset(ABC):\n",
    "    def __init__(self, name: str, price: float):\n",
    "        self.name = name\n",
    "        self.price = price\n",
    "    def __repr__(self) -> str:\n",
    "        return f'Stock: {self.name}, \\nPrice: {self.price}'\n",
    "\n",
    "\n",
    "class Stock:...\n",
    "\n",
    "class Stock(AbstractAsset):\n",
    "\n",
    "    __registry: dict[str, Stock] = dict()\n",
    "\n",
    "    @classmethod\n",
    "    def get_from_registry(cls, name: str) -> Stock:\n",
    "        if (stock := cls.__registry.get(name)) is None: \n",
    "            raise KeyError(f\"Stock {name} doesn't exist\")\n",
    "        return stock\n",
    "\n",
    "    def __new__(cls, *args, **kwargs):\n",
    "        instance = super().__new__(cls)\n",
    "        name = kwargs.get('name')\n",
    "        cls.__registry[name] = instance\n",
    "        return instance\n",
    "    \n",
    "    \n",
    "class Derivative(AbstractAsset):\n",
    "    FORMAT_CODE = \"%Y-%m-%d\"\n",
    "    def __init__(self, *args, expiration_date: str, underlying_name: str, **kwargs):\n",
    "        super().__init__(*args, **kwargs)\n",
    "        self.expiration_date = expiration_date\n",
    "        self.__underlying: Stock = Stock.get_from_registry(underlying_name)\n",
    "    \n",
    "    @property\n",
    "    def underlying(self) -> Stock:\n",
    "        return self.__underlying\n",
    "\n",
    "class Option(Derivative):\n",
    "    def __init__(self, *args, strike_price: float, risk_free_rate: float, volatility: float, **kwargs):\n",
    "        super().__init__(*args, **kwargs)\n",
    "        self.strike_price = strike_price\n",
    "        self.risk_free_rate = risk_free_rate\n",
    "        self.volatility = volatility\n",
    "        self.__payoff = None\n",
    "            \n",
    "    @abstractmethod\n",
    "    def exercise(self):...\n",
    "\n",
    "\n",
    "class EuropeanCallOption(Option):\n",
    "    @property\n",
    "    def payoff(self) -> float:\n",
    "        T: float = datetime.strptime(self.expiration_date, self.FORMAT_CODE).timestamp() - time.time()\n",
    "        T /= 60*60*24*365\n",
    "        d1 = (math.log(self.underlying.price / self.strike_price) +\\\n",
    "             (self.risk_free_rate + self.volatility**2 / 2) * T) /\\\n",
    "             (self.volatility * math.sqrt(T))\n",
    "        d2 = d1 - (self.volatility * math.sqrt(T))\n",
    "        c = self.underlying.price * norm.cdf(d1) - self.strike_price * \\\n",
    "            math.exp(-self.risk_free_rate) * norm.cdf(d2)\n",
    "        return c\n",
    "    def exercise(self):\n",
    "        return None\n"
   ]
  },
  {
   "cell_type": "code",
   "execution_count": 11,
   "id": "42469259",
   "metadata": {},
   "outputs": [],
   "source": [
    "vtbr = Stock(name = 'VTBR', price = 70)\n",
    "\n",
    "eur_call_option = EuropeanCallOption(\n",
    "    name = 'Default Name', \n",
    "    strike_price = 70,\n",
    "    risk_free_rate = 0.18,\n",
    "    volatility = 0.3,\n",
    "    expiration_date = '2025-12-31',\n",
    "    price = 7,\n",
    "    underlying_name = 'VTBR'\n",
    ")"
   ]
  },
  {
   "cell_type": "code",
   "execution_count": null,
   "id": "d4c63579",
   "metadata": {},
   "outputs": [],
   "source": [
    "sber: Stock = Stock(name = 'SBER', price = 300)\n",
    "Stock.get_registry('SBER')"
   ]
  },
  {
   "cell_type": "code",
   "execution_count": 12,
   "id": "bf0fead2",
   "metadata": {},
   "outputs": [
    {
     "data": {
      "text/plain": [
       "np.float64(10.78882627148537)"
      ]
     },
     "execution_count": 12,
     "metadata": {},
     "output_type": "execute_result"
    }
   ],
   "source": [
    "eur_call_option.payoff"
   ]
  },
  {
   "cell_type": "code",
   "execution_count": null,
   "id": "d731bb4e",
   "metadata": {},
   "outputs": [],
   "source": [
    "id(sber),\\\n",
    "id(Stock._Stock__registry['SBER'])"
   ]
  }
 ],
 "metadata": {
  "kernelspec": {
   "display_name": "Python 3",
   "language": "python",
   "name": "python3"
  },
  "language_info": {
   "codemirror_mode": {
    "name": "ipython",
    "version": 3
   },
   "file_extension": ".py",
   "mimetype": "text/x-python",
   "name": "python",
   "nbconvert_exporter": "python",
   "pygments_lexer": "ipython3",
   "version": "3.13.7"
  }
 },
 "nbformat": 4,
 "nbformat_minor": 5
}
