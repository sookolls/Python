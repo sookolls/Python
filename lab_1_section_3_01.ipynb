{
 "cells": [
  {
   "cell_type": "markdown",
   "id": "338babb0",
   "metadata": {},
   "source": [
    "## 1. УСЛОВНЫЕ ОПЕРАТОРЫ\n",
    "\n",
    "### Задание 1.1: Калькулятор оценок\n",
    "Напишите программу, которая принимает числовую оценку (0-100) и выводит соответствующую буквенную оценку:\n",
    "- 90-100: A\n",
    "- 80-89: B  \n",
    "- 70-79: C\n",
    "- 60-69: D\n",
    "- 0-59: F\n",
    "\n",
    "Используйте как обычные if-elif-else конструкции, так и match-case."
   ]
  },
  {
   "cell_type": "code",
   "execution_count": null,
   "id": "b462f7f3",
   "metadata": {},
   "outputs": [],
   "source": [
    "def marks (mark: int)->str:\n",
    "    assert isinstance (mark, int) , \"Оценка должна быть целым числом\"\n",
    "    assert 0 <= mark <= 100, \"Оценка должна быть между 0 и 100\"\n",
    "    if mark <0 or mark > 100:\n",
    "        return 'incorrect value'\n",
    "    elif mark >=90:\n",
    "        return 'A'\n",
    "    elif 80<= mark <= 89:\n",
    "        return 'B'\n",
    "    elif  70<= mark <= 79:\n",
    "        return 'C'\n",
    "    elif 60<= mark <= 69:\n",
    "        return 'D'\n",
    "    elif mark <= 59:\n",
    "        return 'E'\n",
    "try:\n",
    "    print(marks(mark))\n",
    "except ValueError:\n",
    "    print(\"Некорректный тип\")\n",
    "except AssertionError as e:\n",
    "    print(f\"Неверное значение: {e}\")"
   ]
  },
  {
   "cell_type": "code",
   "execution_count": 10,
   "id": "4110f5df",
   "metadata": {},
   "outputs": [
    {
     "data": {
      "text/plain": [
       "'A'"
      ]
     },
     "execution_count": 10,
     "metadata": {},
     "output_type": "execute_result"
    }
   ],
   "source": [
    "marks(98)"
   ]
  },
  {
   "cell_type": "markdown",
   "id": "84a71b71",
   "metadata": {},
   "source": [
    "### Задание 1.2: Проверка года на високосность\n",
    "Создайте функцию, которая определяет, является ли год високосным. Год високосный, если:\n",
    "- Он делится на 4, но не на 100, ИЛИ\n",
    "- Он делится на 400"
   ]
  },
  {
   "cell_type": "code",
   "execution_count": null,
   "id": "5ee77f3f",
   "metadata": {},
   "outputs": [],
   "source": [
    "def leap_year(year: int) -> str:\n",
    "    assert isinstance (year, int)\n",
    "    if (year%4==0 and (year%100)!=0) or year%400==0:\n",
    "        return \"Год високосный\"\n",
    "    else: return\"Год невисокосный\"\n",
    "try:\n",
    "    print(leap_year(year))\n",
    "except ValueError:\n",
    "    print(\"Некорректный тип\")\n",
    "except Exception as e:\n",
    "    print(f\"Неверное значение: {e}\")"
   ]
  },
  {
   "cell_type": "code",
   "execution_count": 3,
   "id": "6d14673b",
   "metadata": {},
   "outputs": [
    {
     "data": {
      "text/plain": [
       "'Год невисокосный'"
      ]
     },
     "execution_count": 3,
     "metadata": {},
     "output_type": "execute_result"
    }
   ],
   "source": [
    "leap_year(1901)"
   ]
  },
  {
   "cell_type": "markdown",
   "id": "e2210190",
   "metadata": {},
   "source": [
    "### Задание 1.3: Классификация треугольников\n",
    "Напишите программу, которая по трем сторонам треугольника определяет его тип:\n",
    "- Равносторонний (все стороны равны)\n",
    "- Равнобедренный (две стороны равны)\n",
    "- Разносторонний (все стороны разные)\n",
    "- Не является треугольником (сумма двух сторон меньше третьей)\n"
   ]
  },
  {
   "cell_type": "code",
   "execution_count": null,
   "id": "e5137acc",
   "metadata": {},
   "outputs": [],
   "source": [
    "def triangle (side_1:float, side_2:float, side_3:float)-> str:\n",
    "    assert (isinstance(side, (int, float)) for side in [side_1, side_2, side_3])\n",
    "    if side_1==side_2==side_3:\n",
    "        return 'Треугольник равносторонний'\n",
    "    elif side_1==side_2 or side_2==side_3 or side_1==side_3:\n",
    "        return \"Треугольник равнобедренный\"\n",
    "    elif side_1+side_2>side_3 and side_2+side_3>side_1 and side_1+side_3>side_2:\n",
    "        return \"Треугольник разносторонний\"\n",
    "    else:\n",
    "        return \"Не является треугольником\"\n",
    "try:\n",
    "    print(triangle(side_1, side_2, side_3))\n",
    "except ValueError:\n",
    "    print(\"Некорректный тип\")\n",
    "except Exception as e:\n",
    "    print(f\"Неверное значение: {e}\")"
   ]
  },
  {
   "cell_type": "code",
   "execution_count": null,
   "id": "e25945b0",
   "metadata": {},
   "outputs": [],
   "source": [
    "triangle()"
   ]
  },
  {
   "cell_type": "markdown",
   "id": "b7a0b54a",
   "metadata": {},
   "source": [
    "### Задание 2.1: Таблица умножения\n",
    "Создайте программу, которая выводит таблицу умножения от 1 до 10. Используйте вложенные циклы for."
   ]
  },
  {
   "cell_type": "code",
   "execution_count": null,
   "id": "b188a3fd",
   "metadata": {},
   "outputs": [],
   "source": [
    "for i in range (1,11):\n",
    "    for j in range(1,11):\n",
    "        print(f\"{i}*{j}={i*j}\")"
   ]
  },
  {
   "cell_type": "markdown",
   "id": "946d8e6c",
   "metadata": {},
   "source": [
    "### Задание 2.2: Поиск простых чисел\n",
    "Напишите функцию, которая находит все простые числа от 2 до заданного числа n. Используйте цикл for и проверку делимости."
   ]
  },
  {
   "cell_type": "code",
   "execution_count": 2,
   "id": "cceac2e5",
   "metadata": {},
   "outputs": [],
   "source": [
    "def prime_numbers (num:int)-> list[int]:\n",
    "    primes = []\n",
    "    for i in range (2, num+1):\n",
    "        for j in range(2, int(i**0.5) + 1):\n",
    "            if i % j == 0:\n",
    "                break\n",
    "        else:\n",
    "            primes.append(i)\n",
    "    return primes"
   ]
  },
  {
   "cell_type": "code",
   "execution_count": 3,
   "id": "c48ac612",
   "metadata": {},
   "outputs": [
    {
     "data": {
      "text/plain": [
       "[2, 3, 5, 7, 11, 13]"
      ]
     },
     "execution_count": 3,
     "metadata": {},
     "output_type": "execute_result"
    }
   ],
   "source": [
    "prime_numbers (13)"
   ]
  },
  {
   "cell_type": "markdown",
   "id": "7e8f6ff4",
   "metadata": {},
   "source": [
    "### Задание 2.3: Игра \"Угадай число\"\n",
    "Создайте игру, где компьютер загадывает случайное число от 1 до 100, а пользователь пытается его угадать. Программа должна:\n",
    "- Генерировать случайное число\n",
    "- Принимать ввод от пользователя\n",
    "- Давать подсказки \"больше\" или \"меньше\"\n",
    "- Считать количество попыток\n",
    "- Использовать цикл while"
   ]
  },
  {
   "cell_type": "code",
   "execution_count": 4,
   "id": "78733da3",
   "metadata": {},
   "outputs": [],
   "source": [
    "import random\n",
    "def secret_number()->None:\n",
    "    i= 0\n",
    "    guess_number:int = random.randint(1, 100)\n",
    "    while True:\n",
    "        try:\n",
    "            guess: int = int(input(\"Введите предполагаемое число\"))\n",
    "            i+=1\n",
    "            if guess < guess_number:\n",
    "                print(\"Загаданное число больше\")\n",
    "            elif guess >guess_number:\n",
    "                print(\"Загаданное число меньше\")\n",
    "            else:\n",
    "                print(f\"Вы угадали число {guess_number}\")\n",
    "                print(f\"Число попыток {i}\")\n",
    "                break\n",
    "        except ValueError:\n",
    "                print(\"Пожалуйста, введите целое число!\")"
   ]
  },
  {
   "cell_type": "code",
   "execution_count": 5,
   "id": "427314f5",
   "metadata": {},
   "outputs": [
    {
     "name": "stdout",
     "output_type": "stream",
     "text": [
      "Загаданное число больше\n",
      "Загаданное число меньше\n",
      "Загаданное число больше\n",
      "Загаданное число меньше\n",
      "Загаданное число меньше\n",
      "Загаданное число меньше\n",
      "Вы угадали число 62\n",
      "Число попыток 7\n"
     ]
    }
   ],
   "source": [
    "secret_number()"
   ]
  },
  {
   "cell_type": "markdown",
   "id": "aa4e9b33",
   "metadata": {},
   "source": [
    "### Задание 2.4: Анализ текста\n",
    "Напишите программу, которая анализирует текст и выводит:\n",
    "- Количество символов\n",
    "- Количество слов\n",
    "- Количество предложений\n",
    "- Самые частые слова (топ-5)\n",
    "\n",
    "Используйте циклы for для обработки текста."
   ]
  },
  {
   "cell_type": "code",
   "execution_count": null,
   "id": "f1b0423b",
   "metadata": {},
   "outputs": [],
   "source": [
    "def text_analysis(text: str)-> Dict[str,object]:\n",
    "    text = ()\n",
    "    number_of_symbols = len(text)\n",
    "    words = text.split()\n",
    "    word_count = len(words)\n",
    "    punctuation = ['.','?', '!']\n",
    "    i_punctuation = 0\n",
    "    for char in text:\n",
    "        if char in punctuation:\n",
    "            i_punctuatioт += 1\n",
    "    if i_punctuation == 0 and word_count > 0:\n",
    "        i_punctuation = 1\n",
    "    \n",
    "    word_count = {}\n",
    "    for word in words:\n",
    "        clean_word = word.strip('.,!?;:\"()').lower()\n",
    "        if clean_word:\n",
    "            if clean_word in word_count:\n",
    "                word_count[clean_word] += 1\n",
    "            else:\n",
    "                word_count[clean_word] = 1\n",
    "    sorted_words = sorted(word_count.items(), key=lambda x: x[1], reverse=True)\n",
    "    top_5_words = sorted_words[:5]\n",
    "    print(f\"Количество символов: {number_of_symbols}\")\n",
    "    print(f\"Количество слов: {word_count}\")\n",
    "    print(f\"Количество предложений: {i_punctuation}\")\n",
    "    print(\"5 самых частых слов:\")\n",
    "    for i, (word, count) in enumerate(top_5_words, 1):\n",
    "        print(f\"{i}. '{word}' - {count} раз(а)\")\n",
    "    \n",
    "    return {\n",
    "        'symbols': number_of_symbols,\n",
    "        'words': word_count,\n",
    "        'sentences': i_punctuation,\n",
    "        'top_words': top_5_words\n",
    "    }\n"
   ]
  },
  {
   "cell_type": "markdown",
   "id": "3e11cb65",
   "metadata": {},
   "source": [
    "### 3. ОБРАБОТКА ОШИБОК\n",
    "\n",
    "### Задание 3.1: Безопасный калькулятор\n",
    "Создайте калькулятор, который безопасно выполняет арифметические операции:\n",
    "- Принимает два числа и операцию (+, -, *, /)\n",
    "- Обрабатывает деление на ноль\n",
    "- Обрабатывает неверный ввод (не числа)\n",
    "- Обрабатывает неверные операции\n",
    "- Использует try-except-finally блоки"
   ]
  },
  {
   "cell_type": "code",
   "execution_count": null,
   "id": "0418805d",
   "metadata": {},
   "outputs": [],
   "source": [
    "def calculator (num_1:float, num_2:float, sign:str )->Union[float,str]:\n",
    "    try:\n",
    "        num1 = float(num_1)\n",
    "        num2 = float(num_2)\n",
    "        if sign == '+':\n",
    "            return num1+num2\n",
    "        elif sign == '-':\n",
    "            return num1-num2\n",
    "        elif sign == '*':\n",
    "            return num1*num2\n",
    "        elif sign == '/':\n",
    "            if num2 == 0:\n",
    "                raise ZeroDivisionError (\"Нельзя делить на ноль\")\n",
    "            return num1/num2\n",
    "        else:\n",
    "            raise ValueError(f\"Ошибка: неверная операция '{sign}'. Операции: +, -, *, /\")\n",
    "    except ValueError:\n",
    "        return \"Ошибка: введите числа\"\n",
    "    except ZeroDivisionError as e:\n",
    "        return f\"Ошибка: {e}\"\n",
    "    except Exception as e:\n",
    "        return f\"Неожиданная ошибка: {e}\""
   ]
  },
  {
   "cell_type": "code",
   "execution_count": 7,
   "id": "4a8d4d86",
   "metadata": {},
   "outputs": [
    {
     "data": {
      "text/plain": [
       "5.0"
      ]
     },
     "execution_count": 7,
     "metadata": {},
     "output_type": "execute_result"
    }
   ],
   "source": [
    "calculator(3,2,'+')"
   ]
  },
  {
   "cell_type": "markdown",
   "id": "07673973",
   "metadata": {},
   "source": [
    "#### Задание 3.2: Чтение файла с обработкой ошибок\n",
    "Напишите функцию, которая:\n",
    "- Пытается прочитать файл\n",
    "- Обрабатывает FileNotFoundError\n",
    "- Обрабатывает PermissionError\n",
    "- Обрабатывает UnicodeDecodeError\n",
    "- Всегда выводит сообщение о завершении операции (finally)"
   ]
  },
  {
   "cell_type": "code",
   "execution_count": null,
   "id": "b4923e01",
   "metadata": {},
   "outputs": [],
   "source": [
    "def reading_file(filename:str, mode: str ='r')-> None:\n",
    "    try:\n",
    "        file = open(filename, mode)\n",
    "        print (\"С файлом всё в порядке\")\n",
    "    except FileNotFoundError:\n",
    "        print(\"Error, файл не найден\")\n",
    "    except PermissionError:\n",
    "        print(\"Error, нарушены права\")\n",
    "    except UnicodeDecodeError:\n",
    "        print(\"Error, проблема с кодировкой\")\n",
    "    finally: print(\"Операция завершена\")\n"
   ]
  },
  {
   "cell_type": "code",
   "execution_count": 36,
   "id": "8a8cba7c",
   "metadata": {},
   "outputs": [
    {
     "name": "stdout",
     "output_type": "stream",
     "text": [
      "С файлом всё в порядке\n",
      "Операция завершена\n"
     ]
    }
   ],
   "source": [
    "reading_file(\"text_file_for_lab1.txt\")"
   ]
  },
  {
   "cell_type": "markdown",
   "id": "ffa9ced7",
   "metadata": {},
   "source": [
    "### Задание 3.3: Кастомные исключения\n",
    "Создайте систему кастомных исключений для банковского приложения:\n",
    "- InsufficientFundsError (недостаточно средств)\n",
    "- InvalidAccountError (неверный номер счета)\n",
    "- TransactionLimitError (превышен лимит транзакций)\n",
    "- Реализуйте класс BankAccount с методами deposit, withdraw, transfer\n",
    "- Используйте ваши кастомные исключения"
   ]
  },
  {
   "cell_type": "code",
   "execution_count": 23,
   "id": "1d59e5b7",
   "metadata": {},
   "outputs": [],
   "source": [
    "from typing import Optional\n",
    "class InsufficientFundsError(Exception): # недостаточно средств \n",
    "    pass\n",
    "class InvalidAccountError(Exception): # неверный номер счета \n",
    "    pass\n",
    "class TransactionLimitError(Exception): # превышен лимит транзакций\n",
    "    pass\n",
    "class BankAccount:\n",
    "    def __init__ (self, account_number: str,balance: float,transaction_limit: float):\n",
    "        self.account_number: str = account_number\n",
    "        self.balance: float = balance\n",
    "        self.transaction_limit: float = transaction_limit\n",
    "        self.transaction_count: int =0 \n",
    "    \n",
    "    def __str__(self) -> str:\n",
    "        return f\"Счёт {self.account_number}: баланс = {self.balance}, транзакций = {self.transaction_count}\"\n",
    "   \n",
    "    def deposit(self,sum_deposit:float)-> None:\n",
    "        if sum_deposit <=0:\n",
    "            raise ValueError(\"сумма должна быть положительная\")\n",
    "        else:\n",
    "            self.balance +=sum_deposit\n",
    "            self.transaction_count +=1\n",
    "\n",
    "    def withdraw(self,sum_deposit:float)-> None:\n",
    "        if sum_deposit > self.balance:\n",
    "            raise InsufficientFundsError()\n",
    "        if sum_deposit > self.transaction_limit:\n",
    "            raise TransactionLimitError()\n",
    "        if sum_deposit <=0:\n",
    "            raise ValueError(\"сумма должна быть положительная\")\n",
    "        self.balance -= sum_deposit\n",
    "        self.transaction_count +=1\n",
    "\n",
    "    def transfer(self, another_account: Optional['BankAccount'],sum_deposit:float)-> None:\n",
    "        if not isinstance(another_account, BankAccount):\n",
    "            raise InvalidAccountError()\n",
    "        self.withdraw(sum_deposit)\n",
    "        another_account.deposit(sum_deposit)\n",
    "        "
   ]
  },
  {
   "cell_type": "code",
   "execution_count": 24,
   "id": "119266d9",
   "metadata": {},
   "outputs": [
    {
     "name": "stdout",
     "output_type": "stream",
     "text": [
      "Счёт 1: баланс = 100, транзакций = 1\n",
      "Счёт 2: баланс = 400, транзакций = 1\n"
     ]
    }
   ],
   "source": [
    "account_1 = BankAccount (1, 200, 200)\n",
    "account_2 = BankAccount (2, 300, 300)\n",
    "\n",
    "try:\n",
    "    account_1.transfer(account_2, 100)\n",
    "    print(account_1)  \n",
    "    print(account_2)  \n",
    "except (InsufficientFundsError, TransactionLimitError, InvalidAccountError) as e:\n",
    "    print(f\"Ошибка операции: {e}\")\n",
    "\n",
    "try:\n",
    "    account_1.withdraw(50)\n",
    "except (InsufficientFundsError, TransactionLimitError) as e:\n",
    "    print(f\"Ошибка: {e}\")"
   ]
  },
  {
   "cell_type": "markdown",
   "id": "0cd70b2c",
   "metadata": {},
   "source": [
    "### Задание 4.1: Кастомный итератор\n",
    "Создайте класс, который реализует итератор для последовательности Фибоначчи:\n",
    "- Реализуйте методы __iter__ и __next__\n",
    "- Ограничьте количество итераций параметром max_iterations\n",
    "- Обработайте исключение StopIteration"
   ]
  },
  {
   "cell_type": "code",
   "execution_count": null,
   "id": "4a287d1a",
   "metadata": {},
   "outputs": [],
   "source": []
  },
  {
   "cell_type": "markdown",
   "id": "4ba8a102",
   "metadata": {},
   "source": [
    "### Задание 4.2: Генератор простых чисел\n",
    "Напишите генератор, который выдает простые числа:\n",
    "- Используйте yield для генерации чисел\n",
    "- Реализуйте эффективный алгоритм проверки простоты\n",
    "- Добавьте возможность ограничить количество генерируемых чисел"
   ]
  },
  {
   "cell_type": "code",
   "execution_count": null,
   "id": "f3ce0150",
   "metadata": {},
   "outputs": [],
   "source": []
  },
  {
   "cell_type": "markdown",
   "id": "84c9e23e",
   "metadata": {},
   "source": [
    "### Задание 4.3: Генератор с send()\n",
    "Создайте генератор, который:\n",
    "- Генерирует последовательность квадратов чисел\n",
    "- Принимает через send() новое начальное значение\n",
    "- Может быть сброшен к новому начальному значению\n",
    "- Логирует все операции"
   ]
  },
  {
   "cell_type": "code",
   "execution_count": null,
   "id": "705531b8",
   "metadata": {},
   "outputs": [],
   "source": []
  },
  {
   "cell_type": "markdown",
   "id": "d2d98770",
   "metadata": {},
   "source": [
    "### Задание 4.4: Рекурсивный генератор\n",
    "Реализуйте генератор для обхода дерева:\n",
    "- Создайте класс TreeNode с дочерними узлами\n",
    "- Напишите рекурсивный генератор для обхода дерева в глубину\n",
    "- Добавьте возможность обхода в ширину\n"
   ]
  },
  {
   "cell_type": "code",
   "execution_count": null,
   "id": "d27ec2b1",
   "metadata": {},
   "outputs": [],
   "source": []
  },
  {
   "cell_type": "markdown",
   "id": "88533c4f",
   "metadata": {},
   "source": [
    "### Задание 5.1: Система логирования для веб-приложения\n",
    "Создайте систему логирования для имитации веб-приложения:\n",
    "- Настройте разные логгеры для разных компонентов (auth, database, api)\n",
    "- Используйте разные уровни логирования\n",
    "- Настройте ротацию логов по времени\n",
    "- Логируйте запросы, ошибки, успешные операции"
   ]
  },
  {
   "cell_type": "code",
   "execution_count": null,
   "id": "d90900fd",
   "metadata": {},
   "outputs": [],
   "source": []
  },
  {
   "cell_type": "markdown",
   "id": "0460bcfd",
   "metadata": {},
   "source": [
    "### Задание 5.2: Логирование с контекстом\n",
    "Реализуйте систему логирования с контекстной информацией:\n",
    "- Добавляйте к каждому логу информацию о пользователе\n",
    "- Включайте timestamp и уникальный ID запроса\n",
    "- Используйте структурированное логирование (JSON формат)\n",
    "- Создайте декоратор для автоматического логирования функций"
   ]
  },
  {
   "cell_type": "code",
   "execution_count": null,
   "id": "7dd07ebe",
   "metadata": {},
   "outputs": [],
   "source": []
  },
  {
   "cell_type": "markdown",
   "id": "f688d3fd",
   "metadata": {},
   "source": [
    "### Задание 5.3: Мониторинг производительности\n",
    "Создайте систему мониторинга производительности:\n",
    "- Логируйте время выполнения функций\n",
    "- Отслеживайте использование памяти\n",
    "- Создайте алерты при превышении пороговых значений\n",
    "- Используйте разные уровни для разных типов метрик"
   ]
  },
  {
   "cell_type": "code",
   "execution_count": null,
   "id": "8a5fc57b",
   "metadata": {},
   "outputs": [],
   "source": []
  },
  {
   "cell_type": "markdown",
   "id": "3c923e5d",
   "metadata": {},
   "source": [
    "### Задание 6.1: Чистые функции\n",
    "Создайте набор чистых функций для работы с математическими операциями:\n",
    "- Функции для базовых операций (сложение, вычитание, умножение, деление)\n",
    "- Функции для работы с векторами (скалярное произведение, норма)\n",
    "- Функции для работы с матрицами (транспонирование, умножение)\n",
    "- Убедитесь, что все функции являются чистыми (детерминированными и без побочных эффектов)"
   ]
  },
  {
   "cell_type": "code",
   "execution_count": null,
   "id": "371d79c1",
   "metadata": {},
   "outputs": [],
   "source": []
  },
  {
   "cell_type": "markdown",
   "id": "fe8c32d4",
   "metadata": {},
   "source": [
    "### Задание 6.2: Lambda функции и высшие функции\n",
    "Реализуйте следующие задачи используя lambda функции:\n",
    "- Создайте список функций-преобразований (квадрат, куб, факториал)\n",
    "- Примените эти функции к списку чисел используя map()\n",
    "- Отфильтруйте числа по различным условиям используя filter()\n",
    "- Вычислите сумму, произведение, максимум, минимум используя reduce()"
   ]
  },
  {
   "cell_type": "code",
   "execution_count": null,
   "id": "465e8ab4",
   "metadata": {},
   "outputs": [],
   "source": []
  },
  {
   "cell_type": "markdown",
   "id": "a5e257c3",
   "metadata": {},
   "source": [
    "### Задание 6.3: Функциональные композиции\n",
    "Создайте систему для композиции функций:\n",
    "- Реализуйте функцию compose(), которая принимает несколько функций и возвращает их композицию\n",
    "- Создайте pipeline для обработки данных (очистка, трансформация, валидация)\n",
    "- Используйте partial() для создания специализированных версий функций\n",
    "- Примените currying для создания функций с частичным применением аргументов"
   ]
  },
  {
   "cell_type": "code",
   "execution_count": null,
   "id": "a130cf0e",
   "metadata": {},
   "outputs": [],
   "source": []
  },
  {
   "cell_type": "markdown",
   "id": "b0314942",
   "metadata": {},
   "source": [
    "### Задание 7.1: Декораторы для измерения времени\n",
    "Создайте декораторы для:\n",
    "- Измерения времени выполнения функции\n",
    "- Подсчета количества вызовов функции\n",
    "- Кэширования результатов функции (мемоизация)\n",
    "- Ограничения частоты вызовов функции (rate limiting)"
   ]
  },
  {
   "cell_type": "code",
   "execution_count": null,
   "id": "7ebfa7c9",
   "metadata": {},
   "outputs": [],
   "source": []
  },
  {
   "cell_type": "markdown",
   "id": "720eb1c9",
   "metadata": {},
   "source": [
    "### Задание 7.2: Декораторы для валидации\n",
    "Реализуйте декораторы для:\n",
    "- Проверки типов аргументов функции\n",
    "- Валидации входных данных (например, email, телефон)\n",
    "- Проверки прав доступа (авторизация)\n",
    "- Логирования аргументов и результатов функции"
   ]
  },
  {
   "cell_type": "code",
   "execution_count": null,
   "id": "c6e221b4",
   "metadata": {},
   "outputs": [],
   "source": []
  },
  {
   "cell_type": "markdown",
   "id": "a154cd55",
   "metadata": {},
   "source": [
    "### Задание 7.3: Декораторы с параметрами\n",
    "Создайте декораторы, которые принимают параметры:\n",
    "- @retry(max_attempts=3, delay=1) - повторные попытки выполнения\n",
    "- @timeout(seconds=5) - ограничение времени выполнения\n",
    "- @deprecated(message=\"Use new_function instead\") - пометка устаревших функций\n",
    "- @validate_input(schema=my_schema) - валидация по схеме"
   ]
  },
  {
   "cell_type": "code",
   "execution_count": null,
   "id": "76ddabeb",
   "metadata": {},
   "outputs": [],
   "source": []
  },
  {
   "cell_type": "markdown",
   "id": "8e883fd2",
   "metadata": {},
   "source": [
    "### Задание 7.4: Комплексная система декораторов\n",
    "Создайте систему декораторов для API эндпоинтов:\n",
    "- @authenticated - проверка аутентификации\n",
    "- @rate_limited(requests_per_minute=60) - ограничение частоты запросов\n",
    "- @validate_json(schema) - валидация JSON\n",
    "- @cache(ttl=300) - кэширование ответов\n",
    "- @log_request - логирование запросов\n",
    "- Комбинируйте несколько декораторов на одной функции"
   ]
  },
  {
   "cell_type": "code",
   "execution_count": null,
   "id": "d9ee8705",
   "metadata": {},
   "outputs": [],
   "source": []
  }
 ],
 "metadata": {
  "kernelspec": {
   "display_name": "Python 3",
   "language": "python",
   "name": "python3"
  },
  "language_info": {
   "codemirror_mode": {
    "name": "ipython",
    "version": 3
   },
   "file_extension": ".py",
   "mimetype": "text/x-python",
   "name": "python",
   "nbconvert_exporter": "python",
   "pygments_lexer": "ipython3",
   "version": "3.9.13"
  }
 },
 "nbformat": 4,
 "nbformat_minor": 5
}
