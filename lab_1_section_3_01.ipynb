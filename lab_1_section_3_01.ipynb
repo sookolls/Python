{
 "cells": [
  {
   "cell_type": "markdown",
   "id": "338babb0",
   "metadata": {},
   "source": [
    "## 1. УСЛОВНЫЕ ОПЕРАТОРЫ\n",
    "\n",
    "### Задание 1.1: Калькулятор оценок\n",
    "Напишите программу, которая принимает числовую оценку (0-100) и выводит соответствующую буквенную оценку:\n",
    "- 90-100: A\n",
    "- 80-89: B  \n",
    "- 70-79: C\n",
    "- 60-69: D\n",
    "- 0-59: F\n",
    "\n",
    "Используйте как обычные if-elif-else конструкции, так и match-case."
   ]
  },
  {
   "cell_type": "code",
   "execution_count": null,
   "id": "b462f7f3",
   "metadata": {},
   "outputs": [],
   "source": [
    "def marks (mark: int)->str:\n",
    "    assert isinstance (mark, int) , \"Оценка должна быть целым числом\"\n",
    "    assert 0 <= mark <= 100, \"Оценка должна быть между 0 и 100\"\n",
    "    if mark <0 or mark > 100:\n",
    "        return 'incorrect value'\n",
    "    elif mark >=90:\n",
    "        return 'A'\n",
    "    elif 80<= mark <= 89:\n",
    "        return 'B'\n",
    "    elif  70<= mark <= 79:\n",
    "        return 'C'\n",
    "    elif 60<= mark <= 69:\n",
    "        return 'D'\n",
    "    elif mark <= 59:\n",
    "        return 'E'\n",
    "try:\n",
    "    print(marks(mark))\n",
    "except ValueError:\n",
    "    print(\"Некорректный тип\")\n",
    "except AssertionError as e:\n",
    "    print(f\"Неверное значение: {e}\")"
   ]
  },
  {
   "cell_type": "code",
   "execution_count": 10,
   "id": "4110f5df",
   "metadata": {},
   "outputs": [
    {
     "data": {
      "text/plain": [
       "'A'"
      ]
     },
     "execution_count": 10,
     "metadata": {},
     "output_type": "execute_result"
    }
   ],
   "source": [
    "marks(98)"
   ]
  },
  {
   "cell_type": "markdown",
   "id": "84a71b71",
   "metadata": {},
   "source": [
    "### Задание 1.2: Проверка года на високосность\n",
    "Создайте функцию, которая определяет, является ли год високосным. Год високосный, если:\n",
    "- Он делится на 4, но не на 100, ИЛИ\n",
    "- Он делится на 400"
   ]
  },
  {
   "cell_type": "code",
   "execution_count": null,
   "id": "5ee77f3f",
   "metadata": {},
   "outputs": [],
   "source": [
    "def leap_year(year: int) -> str:\n",
    "    assert isinstance (year, int)\n",
    "    if (year%4==0 and (year%100)!=0) or year%400==0:\n",
    "        return \"Год високосный\"\n",
    "    else: return\"Год невисокосный\"\n",
    "try:\n",
    "    print(leap_year(year))\n",
    "except ValueError:\n",
    "    print(\"Некорректный тип\")\n",
    "except Exception as e:\n",
    "    print(f\"Неверное значение: {e}\")"
   ]
  },
  {
   "cell_type": "code",
   "execution_count": 3,
   "id": "6d14673b",
   "metadata": {},
   "outputs": [
    {
     "data": {
      "text/plain": [
       "'Год невисокосный'"
      ]
     },
     "execution_count": 3,
     "metadata": {},
     "output_type": "execute_result"
    }
   ],
   "source": [
    "leap_year(1901)"
   ]
  },
  {
   "cell_type": "markdown",
   "id": "e2210190",
   "metadata": {},
   "source": [
    "### Задание 1.3: Классификация треугольников\n",
    "Напишите программу, которая по трем сторонам треугольника определяет его тип:\n",
    "- Равносторонний (все стороны равны)\n",
    "- Равнобедренный (две стороны равны)\n",
    "- Разносторонний (все стороны разные)\n",
    "- Не является треугольником (сумма двух сторон меньше третьей)\n"
   ]
  },
  {
   "cell_type": "code",
   "execution_count": null,
   "id": "e5137acc",
   "metadata": {},
   "outputs": [],
   "source": [
    "def triangle (side_1, side_2, side_3):\n",
    "    assert (isinstance(side, (int, float)) for side in [side_1, side_2, side_3])\n",
    "    if side_1==side_2==side_3:\n",
    "        return 'Треугольник равносторонний'\n",
    "    elif side_1==side_2 or side_2==side_3 or side_1==side_3:\n",
    "        return \"Треугольник равнобедренный\"\n",
    "    elif side_1+side_2>side_3 and side_2+side_3>side_1 and side_1+side_3>side_2:\n",
    "        return \"Треугольник разносторонний\"\n",
    "    else:\n",
    "        return \"Не является треугольником\"\n",
    "try:\n",
    "    print(triangle(side_1, side_2, side_3))\n",
    "except ValueError:\n",
    "    print(\"Некорректный тип\")\n",
    "except Exception as e:\n",
    "    print(f\"Неверное значение: {e}\")"
   ]
  },
  {
   "cell_type": "code",
   "execution_count": null,
   "id": "e25945b0",
   "metadata": {},
   "outputs": [],
   "source": [
    "triangle()"
   ]
  },
  {
   "cell_type": "markdown",
   "id": "b7a0b54a",
   "metadata": {},
   "source": [
    "### Задание 2.1: Таблица умножения\n",
    "Создайте программу, которая выводит таблицу умножения от 1 до 10. Используйте вложенные циклы for."
   ]
  },
  {
   "cell_type": "code",
   "execution_count": null,
   "id": "b188a3fd",
   "metadata": {},
   "outputs": [],
   "source": [
    "for i in range (1,11):\n",
    "    for j in range(1,11):\n",
    "        print(f\"{i}*{j}={i*j}\")"
   ]
  },
  {
   "cell_type": "markdown",
   "id": "946d8e6c",
   "metadata": {},
   "source": [
    "### Задание 2.2: Поиск простых чисел\n",
    "Напишите функцию, которая находит все простые числа от 2 до заданного числа n. Используйте цикл for и проверку делимости."
   ]
  },
  {
   "cell_type": "code",
   "execution_count": 47,
   "id": "cceac2e5",
   "metadata": {},
   "outputs": [],
   "source": [
    "def prime_numbers (num):\n",
    "    primes = []\n",
    "    k=0\n",
    "    for i in range (2, num+1):\n",
    "        for j in range(2, int(i**0.5) + 1):\n",
    "            if i % j == 0:\n",
    "                break\n",
    "        else:\n",
    "            primes.append(i)\n",
    "    return primes"
   ]
  },
  {
   "cell_type": "code",
   "execution_count": 48,
   "id": "c48ac612",
   "metadata": {},
   "outputs": [
    {
     "data": {
      "text/plain": [
       "[2, 3, 5, 7, 11, 13]"
      ]
     },
     "execution_count": 48,
     "metadata": {},
     "output_type": "execute_result"
    }
   ],
   "source": [
    "prime_numbers (13)"
   ]
  },
  {
   "cell_type": "markdown",
   "id": "7e8f6ff4",
   "metadata": {},
   "source": [
    "### Задание 2.3: Игра \"Угадай число\"\n",
    "Создайте игру, где компьютер загадывает случайное число от 1 до 100, а пользователь пытается его угадать. Программа должна:\n",
    "- Генерировать случайное число\n",
    "- Принимать ввод от пользователя\n",
    "- Давать подсказки \"больше\" или \"меньше\"\n",
    "- Считать количество попыток\n",
    "- Использовать цикл while"
   ]
  },
  {
   "cell_type": "code",
   "execution_count": 4,
   "id": "78733da3",
   "metadata": {},
   "outputs": [],
   "source": [
    "import random\n",
    "def secret_number():\n",
    "    i= 0\n",
    "    guess_number = random.randint(1, 100)\n",
    "    while True:\n",
    "        try:\n",
    "            guess = int(input(\"Введите предполагаемое число\"))\n",
    "            i+=1\n",
    "            if guess < guess_number:\n",
    "                print(\"Загаданное число больше\")\n",
    "            elif guess >guess_number:\n",
    "                print(\"Загаданное число меньше\")\n",
    "            else:\n",
    "                print(f\"Вы угадали число {guess_number}\")\n",
    "                print(f\"Число попыток {i}\")\n",
    "                break\n",
    "        except ValueError:\n",
    "                print(\"Пожалуйста, введите целое число!\")\n",
    "\n",
    "        "
   ]
  },
  {
   "cell_type": "code",
   "execution_count": 5,
   "id": "427314f5",
   "metadata": {},
   "outputs": [
    {
     "name": "stdout",
     "output_type": "stream",
     "text": [
      "Загаданное число меньше\n",
      "Загаданное число больше\n",
      "Вы угадали число 45\n",
      "Число попыток 3\n"
     ]
    }
   ],
   "source": [
    "secret_number()"
   ]
  },
  {
   "cell_type": "markdown",
   "id": "aa4e9b33",
   "metadata": {},
   "source": [
    "### Задание 2.4: Анализ текста\n",
    "Напишите программу, которая анализирует текст и выводит:\n",
    "- Количество символов\n",
    "- Количество слов\n",
    "- Количество предложений\n",
    "- Самые частые слова (топ-5)\n",
    "\n",
    "Используйте циклы for для обработки текста."
   ]
  },
  {
   "cell_type": "code",
   "execution_count": 6,
   "id": "f1b0423b",
   "metadata": {},
   "outputs": [],
   "source": [
    "def text_analysis(text):\n",
    "    text = ()\n",
    "    number_of_symbols = len(text)\n",
    "    words = text.split()\n",
    "    word_count = len(words)\n",
    "    punctuation = ['.','?', '!']\n",
    "    i_punctuation = 0\n",
    "    for char in text:\n",
    "        if char in punctuation:\n",
    "            i_punctuatioт += 1\n",
    "    if i_punctuation == 0 and word_count > 0:\n",
    "        i_punctuation = 1\n",
    "    \n",
    "    word_count = {}\n",
    "    for word in words:\n",
    "        clean_word = word.strip('.,!?;:\"()').lower()\n",
    "        if clean_word:\n",
    "            if clean_word in word_count:\n",
    "                word_count[clean_word] += 1\n",
    "            else:\n",
    "                word_count[clean_word] = 1\n",
    "    sorted_words = sorted(word_count.items(), key=lambda x: x[1], reverse=True)\n",
    "    top_5_words = sorted_words[:5]\n",
    "    print(f\"Количество символов: {number_of_symbols}\")\n",
    "    print(f\"Количество слов: {word_count}\")\n",
    "    print(f\"Количество предложений: {i_punctuation}\")\n",
    "    print(\"5 самых частых слов:\")\n",
    "    for i, (word, count) in enumerate(top_5_words, 1):\n",
    "        print(f\"{i}. '{word}' - {count} раз(а)\")\n",
    "    \n",
    "    return {\n",
    "        'symbols': number_of_symbols,\n",
    "        'words': word_count,\n",
    "        'sentences': i_punctuation,\n",
    "        'top_words': top_5_words\n",
    "    }\n"
   ]
  },
  {
   "cell_type": "markdown",
   "id": "3e11cb65",
   "metadata": {},
   "source": [
    "### 3. ОБРАБОТКА ОШИБОК\n",
    "\n",
    "### Задание 3.1: Безопасный калькулятор\n",
    "Создайте калькулятор, который безопасно выполняет арифметические операции:\n",
    "- Принимает два числа и операцию (+, -, *, /)\n",
    "- Обрабатывает деление на ноль\n",
    "- Обрабатывает неверный ввод (не числа)\n",
    "- Обрабатывает неверные операции\n",
    "- Использует try-except-finally блоки"
   ]
  },
  {
   "cell_type": "code",
   "execution_count": 8,
   "id": "0418805d",
   "metadata": {},
   "outputs": [],
   "source": [
    "def calculator (num_1, num_2, sign ):\n",
    "    try:\n",
    "        num1 = float(num_1)\n",
    "        num2 = float(num_2)\n",
    "        if sign == '+':\n",
    "            return num1+num2\n",
    "        elif sign == '-':\n",
    "            return num1-num2\n",
    "        elif sign == '*':\n",
    "            return num1*num2\n",
    "        elif sign == '/':\n",
    "            if num2 == 0:\n",
    "                raise ZeroDivisionError (\"Нельзя делить на ноль\")\n",
    "            return num1/num2\n",
    "        else:\n",
    "            raise ValueError(f\"Ошибка: неверная операция '{sign}'. Операции: +, -, *, /\")\n",
    "    except ValueError:\n",
    "        return \"Ошибка: введите числа\"\n",
    "    except ZeroDivisionError as e:\n",
    "        return f\"Ошибка: {e}\"\n",
    "    except Exception as e:\n",
    "        return f\"Неожиданная ошибка: {e}\""
   ]
  },
  {
   "cell_type": "code",
   "execution_count": 7,
   "id": "4a8d4d86",
   "metadata": {},
   "outputs": [
    {
     "data": {
      "text/plain": [
       "'Ошибка: введите числа'"
      ]
     },
     "execution_count": 7,
     "metadata": {},
     "output_type": "execute_result"
    }
   ],
   "source": [
    "calculator(3,'b','+')"
   ]
  },
  {
   "cell_type": "markdown",
   "id": "07673973",
   "metadata": {},
   "source": [
    "#### Задание 3.2: Чтение файла с обработкой ошибок\n",
    "Напишите функцию, которая:\n",
    "- Пытается прочитать файл\n",
    "- Обрабатывает FileNotFoundError\n",
    "- Обрабатывает PermissionError\n",
    "- Обрабатывает UnicodeDecodeError\n",
    "- Всегда выводит сообщение о завершении операции (finally)"
   ]
  },
  {
   "cell_type": "code",
   "execution_count": null,
   "id": "b4923e01",
   "metadata": {},
   "outputs": [],
   "source": [
    "def reading_file(filename:str, mode: str ='r')-> None:\n",
    "    try:\n",
    "        file = open(filename, mode)\n",
    "        print (\"С файлом всё в порядке\")\n",
    "    except FileNotFoundError:\n",
    "        print(\"Error, файл не найден\")\n",
    "    except PermissionError:\n",
    "        print(\"Error, нарушены права\")\n",
    "    except UnicodeDecodeError:\n",
    "        print(\"Error, проблема с кодировкой\")\n",
    "    finally: print(\"Операция завершена\")\n"
   ]
  },
  {
   "cell_type": "code",
   "execution_count": 36,
   "id": "8a8cba7c",
   "metadata": {},
   "outputs": [
    {
     "name": "stdout",
     "output_type": "stream",
     "text": [
      "С файлом всё в порядке\n",
      "Операция завершена\n"
     ]
    }
   ],
   "source": [
    "reading_file(\"text_file_for_lab1.txt\")"
   ]
  },
  {
   "cell_type": "markdown",
   "id": "ffa9ced7",
   "metadata": {},
   "source": [
    "### Задание 3.3: Кастомные исключения\n",
    "Создайте систему кастомных исключений для банковского приложения:\n",
    "- InsufficientFundsError (недостаточно средств)\n",
    "- InvalidAccountError (неверный номер счета)\n",
    "- TransactionLimitError (превышен лимит транзакций)\n",
    "- Реализуйте класс BankAccount с методами deposit, withdraw, transfer\n",
    "- Используйте ваши кастомные исключения"
   ]
  },
  {
   "cell_type": "code",
   "execution_count": null,
   "id": "1d59e5b7",
   "metadata": {},
   "outputs": [],
   "source": []
  },
  {
   "cell_type": "code",
   "execution_count": null,
   "id": "119266d9",
   "metadata": {},
   "outputs": [],
   "source": []
  }
 ],
 "metadata": {
  "kernelspec": {
   "display_name": "Python 3",
   "language": "python",
   "name": "python3"
  },
  "language_info": {
   "codemirror_mode": {
    "name": "ipython",
    "version": 3
   },
   "file_extension": ".py",
   "mimetype": "text/x-python",
   "name": "python",
   "nbconvert_exporter": "python",
   "pygments_lexer": "ipython3",
   "version": "3.9.13"
  }
 },
 "nbformat": 4,
 "nbformat_minor": 5
}
