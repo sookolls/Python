{
 "cells": [
  {
   "cell_type": "code",
   "execution_count": 1,
   "id": "550701e5",
   "metadata": {},
   "outputs": [
    {
     "name": "stdout",
     "output_type": "stream",
     "text": [
      "E\n"
     ]
    }
   ],
   "source": [
    "def marks (mark):\n",
    "    if mark <0 or mark > 100:\n",
    "        return 'incorrect value'\n",
    "    elif mark >=90:\n",
    "        return 'A'\n",
    "    elif mark >=80 and mark <= 89:\n",
    "        return 'B'\n",
    "    elif mark >=70 and mark <= 79:\n",
    "        return 'C'\n",
    "    elif mark >=60 and mark <= 69:\n",
    "        return 'D'\n",
    "    elif mark <= 59:\n",
    "        return 'E'\n",
    "try:\n",
    "    mark = int(input(\"Введите число: \"))\n",
    "    print(marks(mark))\n",
    "except Exception:\n",
    "    print(\"incorrect type\")"
   ]
  },
  {
   "cell_type": "code",
   "execution_count": 2,
   "id": "5ee77f3f",
   "metadata": {},
   "outputs": [],
   "source": [
    "#jj\n"
   ]
  }
 ],
 "metadata": {
  "kernelspec": {
   "display_name": "Python 3",
   "language": "python",
   "name": "python3"
  },
  "language_info": {
   "codemirror_mode": {
    "name": "ipython",
    "version": 3
   },
   "file_extension": ".py",
   "mimetype": "text/x-python",
   "name": "python",
   "nbconvert_exporter": "python",
   "pygments_lexer": "ipython3",
   "version": "3.9.13"
  }
 },
 "nbformat": 4,
 "nbformat_minor": 5
}
