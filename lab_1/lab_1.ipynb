{
 "cells": [
  {
   "cell_type": "markdown",
   "id": "338babb0",
   "metadata": {},
   "source": [
    "## 1. УСЛОВНЫЕ ОПЕРАТОРЫ\n",
    "\n",
    "### Задание 1.1: Калькулятор оценок\n",
    "Напишите программу, которая принимает числовую оценку (0-100) и выводит соответствующую буквенную оценку:\n",
    "- 90-100: A\n",
    "- 80-89: B  \n",
    "- 70-79: C\n",
    "- 60-69: D\n",
    "- 0-59: F\n",
    "\n",
    "Используйте как обычные if-elif-else конструкции, так и match-case."
   ]
  },
  {
   "cell_type": "code",
   "execution_count": null,
   "id": "b462f7f3",
   "metadata": {},
   "outputs": [],
   "source": [
    "def marks (mark: int)->str:\n",
    "    assert isinstance (mark, int) , \"Оценка должна быть целым числом\"\n",
    "    assert 0 <= mark <= 100, \"Оценка должна быть между 0 и 100\"\n",
    "    if mark <0 or mark > 100:\n",
    "        return 'incorrect value'\n",
    "    elif mark >=90:\n",
    "        return 'A'\n",
    "    elif 80<= mark <= 89:\n",
    "        return 'B'\n",
    "    elif  70<= mark <= 79:\n",
    "        return 'C'\n",
    "    elif 60<= mark <= 69:\n",
    "        return 'D'\n",
    "    elif mark <= 59:\n",
    "        return 'E'\n",
    "try:\n",
    "    print(marks(mark))\n",
    "except ValueError:\n",
    "    print(\"Некорректный тип\")\n",
    "except AssertionError as e:\n",
    "    print(f\"Неверное значение: {e}\")"
   ]
  },
  {
   "cell_type": "code",
   "execution_count": 10,
   "id": "4110f5df",
   "metadata": {},
   "outputs": [
    {
     "data": {
      "text/plain": [
       "'A'"
      ]
     },
     "execution_count": 10,
     "metadata": {},
     "output_type": "execute_result"
    }
   ],
   "source": [
    "marks(98)"
   ]
  },
  {
   "cell_type": "markdown",
   "id": "84a71b71",
   "metadata": {},
   "source": [
    "### Задание 1.2: Проверка года на високосность\n",
    "Создайте функцию, которая определяет, является ли год високосным. Год високосный, если:\n",
    "- Он делится на 4, но не на 100, ИЛИ\n",
    "- Он делится на 400"
   ]
  },
  {
   "cell_type": "code",
   "execution_count": 2,
   "id": "5ee77f3f",
   "metadata": {},
   "outputs": [
    {
     "name": "stdout",
     "output_type": "stream",
     "text": [
      "Неверное значение: name 'year' is not defined\n"
     ]
    }
   ],
   "source": [
    "def leap_year(year: int) -> str:\n",
    "    assert isinstance (year, int)\n",
    "    if (year%4==0 and (year%100)!=0) or year%400==0:\n",
    "        return \"Год високосный\"\n",
    "    else: return\"Год невисокосный\"\n",
    "try:\n",
    "    print(leap_year(year))\n",
    "except ValueError:\n",
    "    print(\"Некорректный тип\")\n",
    "except Exception as e:\n",
    "    print(f\"Неверное значение: {e}\")"
   ]
  },
  {
   "cell_type": "code",
   "execution_count": 3,
   "id": "6d14673b",
   "metadata": {},
   "outputs": [
    {
     "data": {
      "text/plain": [
       "'Год невисокосный'"
      ]
     },
     "execution_count": 3,
     "metadata": {},
     "output_type": "execute_result"
    }
   ],
   "source": [
    "leap_year(1901)"
   ]
  }
 ],
 "metadata": {
  "kernelspec": {
   "display_name": "Python 3",
   "language": "python",
   "name": "python3"
  },
  "language_info": {
   "codemirror_mode": {
    "name": "ipython",
    "version": 3
   },
   "file_extension": ".py",
   "mimetype": "text/x-python",
   "name": "python",
   "nbconvert_exporter": "python",
   "pygments_lexer": "ipython3",
   "version": "3.9.13"
  }
 },
 "nbformat": 4,
 "nbformat_minor": 5
}
