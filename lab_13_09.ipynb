{
 "cells": [
  {
   "cell_type": "markdown",
   "id": "a05c49b4",
   "metadata": {},
   "source": [
    "Разложение в ряд Тейлора для Sin (x)"
   ]
  },
  {
   "cell_type": "code",
   "execution_count": 7,
   "id": "0941980e",
   "metadata": {},
   "outputs": [],
   "source": [
    "from typing import Generator\n",
    "import math\n",
    "def gen_taylor_row(x0:float, eps=1e-3, *args, **kwds) -> Generator[float, None, None]:\n",
    "    n: int=0\n",
    "    summand:float = x0 #первое слагаемое\n",
    "    total:float = 0 #сумма\n",
    "    while abs(summand) >eps: #пока сумма больше эпсилон\n",
    "        total +=summand\n",
    "        # yield total\n",
    "        n+=1\n",
    "        summand = ((-1)**n)*(x0**(2*n+1))/math.factorial(2*n+1)\n",
    "    return total"
   ]
  },
  {
   "cell_type": "code",
   "execution_count": 9,
   "id": "3f830c21",
   "metadata": {},
   "outputs": [
    {
     "data": {
      "text/plain": [
       "1.0000035425842861"
      ]
     },
     "execution_count": 9,
     "metadata": {},
     "output_type": "execute_result"
    }
   ],
   "source": [
    "gen_taylor_row(math.pi/2, 1e-5)"
   ]
  }
 ],
 "metadata": {
  "kernelspec": {
   "display_name": "Python 3",
   "language": "python",
   "name": "python3"
  },
  "language_info": {
   "codemirror_mode": {
    "name": "ipython",
    "version": 3
   },
   "file_extension": ".py",
   "mimetype": "text/x-python",
   "name": "python",
   "nbconvert_exporter": "python",
   "pygments_lexer": "ipython3",
   "version": "3.9.13"
  }
 },
 "nbformat": 4,
 "nbformat_minor": 5
}
