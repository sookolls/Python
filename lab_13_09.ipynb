{
 "cells": [
  {
   "cell_type": "markdown",
   "id": "a05c49b4",
   "metadata": {},
   "source": [
    "##### Разложение в ряд Тейлора для Sin (x)"
   ]
  },
  {
   "cell_type": "code",
   "execution_count": 14,
   "id": "0941980e",
   "metadata": {},
   "outputs": [],
   "source": [
    "from typing import Generator, Iterator, Iterable\n",
    "import math\n",
    "def gen_taylor_row(x0:float, *args, **kwds) -> Generator[float, None, None]:\n",
    "    epsilon = 1e-6\n",
    "    n: int=0\n",
    "    summand:float = x0 #первое слагаемое\n",
    "    total:float = 0 #сумма\n",
    "    previous_total:float = 0 #предыдущая сумма\n",
    "    \n",
    "    while True: \n",
    "        summand = ((-1)**n)*(x0**(2*n+1))/math.factorial(2*n+1)\n",
    "        total +=summand #к сумме добавляется текущее значение\n",
    "        yield total\n",
    "        if n > 0 and abs(total-previous_total)<epsilon: #сравнение разницы двух сумм\n",
    "            break\n",
    "        previous_total = total\n",
    "        n+=1\n"
   ]
  },
  {
   "cell_type": "code",
   "execution_count": 15,
   "id": "789e2aa8",
   "metadata": {},
   "outputs": [
    {
     "name": "stdout",
     "output_type": "stream",
     "text": [
      "1.5707963267948966\n",
      "0.9248322292886504\n",
      "1.0045248555348174\n",
      "0.9998431013994987\n",
      "1.0000035425842861\n",
      "0.999999943741051\n",
      "1.0000000006627803\n"
     ]
    }
   ],
   "source": [
    "for result in gen_taylor_row(math.pi/2):\n",
    "    print(result)"
   ]
  },
  {
   "cell_type": "code",
   "execution_count": 16,
   "id": "40df9901",
   "metadata": {},
   "outputs": [],
   "source": [
    "from typing import Generator, Iterator, Iterable\n",
    "import math\n",
    "def gen_taylor_row_2(x0:float, *args, **kwds) -> Generator[float, None, None]:\n",
    "    epsilon = 1e-3\n",
    "    n: int=0\n",
    "    summand:float = x0 #первое слагаемое\n",
    "    total:float = 0 #сумма\n",
    "    previous_total:float = 0 #предыдущая сумма\n",
    "    \n",
    "    while True: \n",
    "        summand = ((-1)**n)*(x0**(2*n+1))/math.factorial(2*n+1)\n",
    "        if summand<epsilon: #сравнение разницы двух сумм\n",
    "            break\n",
    "        total +=summand #к сумме добавляется текущее значение\n",
    "        yield summand, total\n",
    "        n+=1\n"
   ]
  },
  {
   "cell_type": "code",
   "execution_count": null,
   "id": "3f830c21",
   "metadata": {},
   "outputs": [
    {
     "name": "stdout",
     "output_type": "stream",
     "text": [
      "1.5707963267948966 1.5707963267948966\n"
     ]
    }
   ],
   "source": [
    "for term, partial_sum in gen_taylor_row_2(math.pi/2):\n",
    "    print(term, partial_sum)"
   ]
  },
  {
   "cell_type": "markdown",
   "id": "a04c4d66",
   "metadata": {},
   "source": [
    "##### Написать функцию \n",
    "def grad(f:Collable[float], eps: float = 1e-3)-> Collable[[float], float]:\n",
    "\n",
    "def func(arg_1, arg_2)->arg_3\n",
    "Collable[[arg_1,arg_2],arg_3] пример как записываем функцию и как должна выглять её аннотация\n",
    "\n",
    "\n",
    "взять функцию посчитать от неё производную и получить её в виде функции"
   ]
  },
  {
   "cell_type": "code",
   "execution_count": 84,
   "id": "f2b566b3",
   "metadata": {},
   "outputs": [],
   "source": [
    "from typing import Callable\n",
    "import math\n",
    "def grad(f:Callable[[float],float], epsilon: float = 1e-5) -> Callable[[float], float]:\n",
    "    def derivative(x:float) -> float:\n",
    "        nonlocal epsilon\n",
    "        return (f(x+epsilon)-f(x-epsilon))/(2*epsilon)\n",
    "    return derivative\n",
    "\n",
    "def any_name(x:float)->float:\n",
    "    return x**2 + 0.5\n",
    "\n",
    "dfdx = grad(f=any_name)"
   ]
  },
  {
   "cell_type": "code",
   "execution_count": 85,
   "id": "f338dc4b",
   "metadata": {},
   "outputs": [
    {
     "data": {
      "text/plain": [
       "5.000000000032756"
      ]
     },
     "execution_count": 85,
     "metadata": {},
     "output_type": "execute_result"
    }
   ],
   "source": [
    "dfdx(2.5)"
   ]
  },
  {
   "cell_type": "code",
   "execution_count": null,
   "id": "0909aad6",
   "metadata": {},
   "outputs": [],
   "source": [
    "f(*args: Iterable[float])->float\n",
    "args: Iterable[float]\n",
    "grad_: list[Callable[]]=list()\n",
    "for i in range(len(args)):\n",
    "    fixed_arg_1, changble_arg, fixed_arg_2 = args[:i-1], args[i:], args[i+1:]\n",
    "    def new_f(x):\n",
    "        return grad*(lambda x: f(*fixed_arg_1,*fixed_arg_2))\n",
    "    grad_.append(new_f)"
   ]
  },
  {
   "cell_type": "markdown",
   "id": "76fd0f57",
   "metadata": {},
   "source": [
    "посчитать градиент порядка н\n",
    "градиент с произвольным количеством аргументов"
   ]
  }
 ],
 "metadata": {
  "kernelspec": {
   "display_name": "Python 3",
   "language": "python",
   "name": "python3"
  },
  "language_info": {
   "codemirror_mode": {
    "name": "ipython",
    "version": 3
   },
   "file_extension": ".py",
   "mimetype": "text/x-python",
   "name": "python",
   "nbconvert_exporter": "python",
   "pygments_lexer": "ipython3",
   "version": "3.9.13"
  }
 },
 "nbformat": 4,
 "nbformat_minor": 5
}
