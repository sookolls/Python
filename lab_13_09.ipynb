{
 "cells": [
  {
   "cell_type": "markdown",
   "id": "a05c49b4",
   "metadata": {},
   "source": [
    "##### Разложение в ряд Тейлора для Sin (x)"
   ]
  },
  {
   "cell_type": "code",
   "execution_count": 82,
   "id": "0941980e",
   "metadata": {},
   "outputs": [],
   "source": [
    "from typing import Generator, Iterator, Iterable\n",
    "import math\n",
    "def gen_taylor_row(x0:float, *args, **kwds) -> Generator[float, None, None]:\n",
    "    epsilon = 1e-3\n",
    "    n: int=0\n",
    "    summand:float = x0 #первое слагаемое\n",
    "    total:float = 0 #сумма\n",
    "    \n",
    "    while True: \n",
    "        abs(summand) >epsilon #пока сумма больше эпсилон\n",
    "        total +=summand #к сумме добавляется текущее значение\n",
    "        yield total\n",
    "        n+=1\n",
    "        summand = ((-1)**n)*(x0**(2*n+1))/math.factorial(2*n+1)\n",
    "\n"
   ]
  },
  {
   "cell_type": "code",
   "execution_count": 83,
   "id": "3f830c21",
   "metadata": {},
   "outputs": [
    {
     "data": {
      "text/plain": [
       "<generator object gen_taylor_row at 0x0000020AB5A06040>"
      ]
     },
     "execution_count": 83,
     "metadata": {},
     "output_type": "execute_result"
    }
   ],
   "source": [
    "gen_taylor_row(math.pi/2)"
   ]
  },
  {
   "cell_type": "markdown",
   "id": "a04c4d66",
   "metadata": {},
   "source": [
    "##### Написать функцию \n",
    "def grad(f:Collable[float], eps: float = 1e-3)-> Collable[[float], float]:\n",
    "\n",
    "def func(arg_1, arg_2)->arg_3\n",
    "Collable[[arg_1,arg_2],arg_3] пример как записываем функцию и как должна выглять её аннотация\n",
    "\n",
    "\n",
    "взять функцию посчитать от неё производную и получить её в виде функции"
   ]
  },
  {
   "cell_type": "code",
   "execution_count": 84,
   "id": "f2b566b3",
   "metadata": {},
   "outputs": [],
   "source": [
    "from typing import Callable\n",
    "import math\n",
    "def grad(f:Callable[[float],float], epsilon: float = 1e-5) -> Callable[[float], float]:\n",
    "    def derivative(x:float) -> float:\n",
    "        nonlocal epsilon\n",
    "        return (f(x+epsilon)-f(x-epsilon))/(2*epsilon)\n",
    "    return derivative\n",
    "\n",
    "def any_name(x:float)->float:\n",
    "    return x**2 + 0.5\n",
    "\n",
    "dfdx = grad(f=any_name)"
   ]
  },
  {
   "cell_type": "code",
   "execution_count": 85,
   "id": "f338dc4b",
   "metadata": {},
   "outputs": [
    {
     "data": {
      "text/plain": [
       "5.000000000032756"
      ]
     },
     "execution_count": 85,
     "metadata": {},
     "output_type": "execute_result"
    }
   ],
   "source": [
    "dfdx(2.5)"
   ]
  }
 ],
 "metadata": {
  "kernelspec": {
   "display_name": "Python 3",
   "language": "python",
   "name": "python3"
  },
  "language_info": {
   "codemirror_mode": {
    "name": "ipython",
    "version": 3
   },
   "file_extension": ".py",
   "mimetype": "text/x-python",
   "name": "python",
   "nbconvert_exporter": "python",
   "pygments_lexer": "ipython3",
   "version": "3.9.13"
  }
 },
 "nbformat": 4,
 "nbformat_minor": 5
}
