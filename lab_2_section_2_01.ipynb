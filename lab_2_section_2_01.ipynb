{
 "cells": [
  {
   "cell_type": "markdown",
   "id": "1b1c9712",
   "metadata": {},
   "source": [
    "### Задание 1: Работа с булевыми значениями\n",
    "\n",
    "Создайте функцию `check_conditions`, которая принимает три булевых параметра и возвращает результат сложной логической операции:\n",
    "\n",
    "- Если все три параметра True, вернуть True\n",
    "- Если ровно два параметра True, вернуть False  \n",
    "- Если ровно один параметр True, вернуть True\n",
    "- Если все параметры False, вернуть False\n",
    "\n",
    "Используйте только логические операторы `and`, `or`, `not`."
   ]
  },
  {
   "cell_type": "code",
   "execution_count": 49,
   "id": "e08f6878",
   "metadata": {},
   "outputs": [
    {
     "name": "stdout",
     "output_type": "stream",
     "text": [
      "Тесты для check_conditions:\n",
      "Все True: True\n",
      "Два True: False\n",
      "Один True: True\n",
      "Все False: False\n"
     ]
    }
   ],
   "source": [
    "# Ваше решение здесь\n",
    "def check_conditions(a: bool, b: bool, c: bool) -> bool:\n",
    "    \"\"\"\n",
    "    Проверяет условия на основе количества True значений среди трех параметров.\n",
    "    :param a: первый булев параметр\n",
    "    :param b: второй булев параметр  \n",
    "    :param c: третий булев параметр\n",
    "    :return: результат логической операции\n",
    "    \"\"\"\n",
    "    if a and b and c:\n",
    "        return True\n",
    "    elif (a and b and not c) or (a and not b and c) or (not a and b and c):\n",
    "        return False\n",
    "    elif (not a and not b and c) or (a and  not b and not c) or (not a and b and not c):\n",
    "        return True\n",
    "    elif not a and not b and not c:\n",
    "        return False\n",
    "\n",
    "\n",
    "# Тесты для проверки\n",
    "print(\"Тесты для check_conditions:\")\n",
    "print(f\"Все True: {check_conditions(True, True, True)}\")  # Ожидается True\n",
    "print(f\"Два True: {check_conditions(True, True, False)}\")  # Ожидается False\n",
    "print(f\"Один True: {check_conditions(True, False, False)}\")  # Ожидается True\n",
    "print(f\"Все False: {check_conditions(False, False, False)}\")  # Ожидается False"
   ]
  },
  {
   "cell_type": "markdown",
   "id": "1ea39616",
   "metadata": {},
   "source": [
    "### Задание 2: Работа с числовыми типами\n",
    "\n",
    "Создайте функцию `calculate_quadratic_roots`, которая вычисляет корни квадратного уравнения ax² + bx + c = 0.\n",
    "\n",
    "Функция должна:\n",
    "- Принимать коэффициенты a, b, c как float\n",
    "- Возвращать кортеж с корнями уравнения\n",
    "- Обрабатывать случаи когда дискриминант отрицательный (возвращать None)\n",
    "- Использовать комплексные числа для отрицательного дискриминанта\n",
    "- Включать проверки входных данных"
   ]
  },
  {
   "cell_type": "code",
   "execution_count": 50,
   "id": "2e908410",
   "metadata": {},
   "outputs": [
    {
     "name": "stdout",
     "output_type": "stream",
     "text": [
      "Тесты для calculate_quadratic_roots:\n",
      "x² - 5x + 6 = 0: (3.0, 2.0)\n",
      "x² - 4x + 4 = 0: (2.0, 2.0)\n",
      "x² + x + 1 = 0: ((-0.5+0.8660254037844386j), (-0.5-0.8660254037844386j))\n",
      "0x² + 2x + 1 = 0: None\n"
     ]
    }
   ],
   "source": [
    "import math, cmath\n",
    "from typing import Tuple, Union\n",
    "\n",
    "# Ваше решение здесь\n",
    "def calculate_quadratic_roots(a: float, b: float, c: float) -> Union[Tuple[float, float], Tuple[complex, complex], None]:\n",
    "    \"\"\"\n",
    "    Вычисляет корни квадратного уравнения ax² + bx + c = 0.\n",
    "    :param a: коэффициент при x²\n",
    "    :param b: коэффициент при x\n",
    "    :param c: свободный член\n",
    "    :return: кортеж с корнями уравнения или None при ошибке\n",
    "    \"\"\"\n",
    "    try:\n",
    "        if a==0:\n",
    "            return None\n",
    "        discriminant = b*b-4*a*c\n",
    "        if discriminant < 0:\n",
    "            x1 = (-b + cmath.sqrt(discriminant))/(2*a)\n",
    "            x2 = (-b - cmath.sqrt(discriminant))/(2*a)\n",
    "            return (x1, x2)\n",
    "        else: \n",
    "            x1 = (-b + math.sqrt(discriminant))/(2*a)\n",
    "            x2 = (-b - math.sqrt(discriminant))/(2*a)\n",
    "            return (x1, x2)\n",
    "    except ValueError:\n",
    "        return \"Ошибка: введите числа\"\n",
    "\n",
    "# Тесты для проверки\n",
    "print(\"Тесты для calculate_quadratic_roots:\")\n",
    "print(f\"x² - 5x + 6 = 0: {calculate_quadratic_roots(1, -5, 6)}\")  # Ожидается (3.0, 2.0)\n",
    "print(f\"x² - 4x + 4 = 0: {calculate_quadratic_roots(1, -4, 4)}\")  # Ожидается (2.0, 2.0)\n",
    "print(f\"x² + x + 1 = 0: {calculate_quadratic_roots(1, 1, 1)}\")    # Ожидается комплексные корни\n",
    "print(f\"0x² + 2x + 1 = 0: {calculate_quadratic_roots(0, 2, 1)}\")  # Ожидается None (не квадратное)\n"
   ]
  },
  {
   "cell_type": "markdown",
   "id": "43ff4257",
   "metadata": {},
   "source": [
    "### Задание 3: Работа со списками и кортежами\n",
    "\n",
    "Создайте функцию `analyze_sequence`, которая анализирует последовательность чисел и возвращает статистику в виде именованного кортежа.\n",
    "\n",
    "Функция должна:\n",
    "- Принимать список чисел (int или float)\n",
    "- Вычислять: сумму, среднее, минимум, максимум, количество элементов\n",
    "- Возвращать результат как именованный кортеж\n",
    "- Обрабатывать пустой список (возвращать None)\n",
    "- Использовать только встроенные функции Python"
   ]
  },
  {
   "cell_type": "code",
   "execution_count": 51,
   "id": "b2cfffc3",
   "metadata": {},
   "outputs": [
    {
     "name": "stdout",
     "output_type": "stream",
     "text": [
      "Тесты для analyze_sequence:\n",
      "Данные: [1, 2, 3, 4, 5]\n",
      "Сумма: 15, Среднее: 3.00\n",
      "Мин: 1, Макс: 5, Количество: 5\n",
      "Пустой список: None\n"
     ]
    }
   ],
   "source": [
    "from typing import List, Union, NamedTuple, Optional\n",
    "# Определение именованного кортежа для результата\n",
    "class SequenceStats(NamedTuple):\n",
    "    sum: float\n",
    "    average: float\n",
    "    minimum: float\n",
    "    maximum: float\n",
    "    count: int\n",
    "# Ваше решение здесь\n",
    "def analyze_sequence(numbers: List[Union[int, float]]) -> Optional[SequenceStats]:\n",
    "    \"\"\"\n",
    "    Анализирует последовательность чисел и возвращает статистику.\n",
    "    :param numbers: список чисел для анализа\n",
    "    :return: именованный кортеж со статистикой или None для пустого списка\n",
    "    \"\"\"\n",
    "    if not numbers:\n",
    "        return None\n",
    "    else:\n",
    "        return SequenceStats(\n",
    "        sum = sum(numbers),\n",
    "        average = sum(numbers) / len(numbers),\n",
    "        minimum = min(numbers),\n",
    "        maximum = max(numbers),\n",
    "        count = len(numbers)\n",
    "    )\n",
    "\n",
    "# Тесты для проверки\n",
    "print(\"Тесты для analyze_sequence:\")\n",
    "test_data = [1, 2, 3, 4, 5]\n",
    "result = analyze_sequence(test_data)\n",
    "if result:\n",
    "    print(f\"Данные: {test_data}\")\n",
    "    print(f\"Сумма: {result.sum}, Среднее: {result.average:.2f}\")\n",
    "    print(f\"Мин: {result.minimum}, Макс: {result.maximum}, Количество: {result.count}\")\n",
    "\n",
    "empty_result = analyze_sequence([])\n",
    "print(f\"Пустой список: {empty_result}\")  # Ожидается None\n"
   ]
  },
  {
   "cell_type": "markdown",
   "id": "3c3ad025",
   "metadata": {},
   "source": [
    "### Задание 4: Работа со строками\n",
    "\n",
    "Создайте функцию `format_person_info`, которая форматирует информацию о человеке в красивую строку.\n",
    "\n",
    "Функция должна:\n",
    "- Принимать имя, возраст, профессию и зарплату\n",
    "- Форматировать строку с выравниванием и ограничением точности для зарплаты\n",
    "- Обрабатывать случаи когда данные могут быть None\n",
    "- Возвращать отформатированную строку\n"
   ]
  },
  {
   "cell_type": "code",
   "execution_count": 52,
   "id": "73f6567f",
   "metadata": {},
   "outputs": [
    {
     "name": "stdout",
     "output_type": "stream",
     "text": [
      "Тесты для format_person_info:\n",
      "Иван Петров, Возраст: 30, Профессия: Программист, Зарплата: 150000.0\n",
      "Мария, Возраст: 25, Профессия: ---, Зарплата: 120000\n",
      "Имя не введено, Возраст: 35, Профессия: Дизайнер, Зарплата: ---\n",
      "Алексей, Возраст: ---, Профессия: Менеджер, Зарплата: 95000.0\n"
     ]
    }
   ],
   "source": [
    "from typing import Optional\n",
    "import math\n",
    "\n",
    "# Ваше решение здесь\n",
    "def format_person_info(name: Optional[str], age: Optional[int], \n",
    "                      profession: Optional[str], salary: Optional[float]) -> str:\n",
    "    \"\"\"\n",
    "    Форматирует информацию о человеке в красивую строку.\n",
    "    :param name: имя человека\n",
    "    :param age: возраст\n",
    "    :param profession: профессия\n",
    "    :param salary: зарплата\n",
    "    :return: отформатированная строка с информацией\n",
    "    \"\"\"\n",
    "    name_str = name if name is not None else \"Имя не введено\"\n",
    "    age_str = age if age is not None else \"---\"\n",
    "    profession_str = profession if profession is not None else \"---\"\n",
    "    salary_str = round(salary, -3)if salary is not None else \"---\"\n",
    "    return f\"{name_str}, Возраст: {age_str}, Профессия: {profession_str}, Зарплата: {salary_str}\"\n",
    "\n",
    "# Тесты для проверки\n",
    "print(\"Тесты для format_person_info:\")\n",
    "print(format_person_info(\"Иван Петров\", 30, \"Программист\", 150000.567))\n",
    "print(format_person_info(\"Мария\", 25, None, 120000))\n",
    "print(format_person_info(None, 35, \"Дизайнер\", None))\n",
    "print(format_person_info(\"Алексей\", None, \"Менеджер\", 95000.123))\n"
   ]
  },
  {
   "cell_type": "markdown",
   "id": "83ea0e96",
   "metadata": {},
   "source": [
    "### Задание 5: Комплексная задача\n",
    "\n",
    "Создайте функцию `process_data`, которая обрабатывает список строк с данными о студентах и возвращает статистику.\n",
    "\n",
    "Каждая строка имеет формат: \"Имя,Возраст,Оценка1,Оценка2,Оценка3\"\n",
    "\n",
    "Функция должна:\n",
    "- Парсить строки и извлекать данные\n",
    "- Вычислять среднюю оценку для каждого студента\n",
    "- Находить лучшего и худшего студента по средней оценке\n",
    "- Возвращать результат в виде словаря с ключами: 'best_student', 'worst_student', 'average_grade'\n",
    "- Обрабатывать ошибки парсинга (пропускать некорректные строки)\n"
   ]
  },
  {
   "cell_type": "code",
   "execution_count": 57,
   "id": "71d45ef5",
   "metadata": {},
   "outputs": [
    {
     "name": "stdout",
     "output_type": "stream",
     "text": [
      "Тесты для process_data:\n",
      "Результат: {'лучший студент': 'Алексей Козлов', 'худший студент': 'Петр Иванов', 'средняя оценка': 3.8}\n"
     ]
    }
   ],
   "source": [
    "from typing import List, Dict, Any\n",
    "# Ваше решение здесь\n",
    "def process_data(student_data: List[str]) -> Dict[str, Any]:\n",
    "    \"\"\"\n",
    "    Обрабатывает данные о студентах и возвращает статистику.\n",
    "    :param student_data: список строк с данными в формате \"Имя,Возраст,Оценка1,Оценка2,Оценка3\"\n",
    "    :return: словарь со статистикой\n",
    "    \"\"\"\n",
    "    student_averages = {}\n",
    "    for line in student_data:\n",
    "        student_list = line.split(\",\")\n",
    "        if len(student_list) != 5:\n",
    "            continue\n",
    "        name = student_list[0]\n",
    "        try:\n",
    "            grades = list(map(int, student_list[2:]))\n",
    "            average = sum(grades) / len(grades)\n",
    "            student_averages[name] = average\n",
    "        except ValueError:\n",
    "            continue\n",
    "        if not student_averages:\n",
    "            return {\"best_student\": None, \"worst_student\": None, \"average_grade\": None}\n",
    "\n",
    "    best_student = max(student_averages, key=student_averages.get)\n",
    "    worst_student = min(student_averages, key=student_averages.get)\n",
    "    \n",
    "    average_grade = sum(student_averages.values()) / len(student_averages)# средняя оценка всех студентов\n",
    "\n",
    "    return {\n",
    "        \"лучший студент\": best_student,\n",
    "        \"худший студент\": worst_student,\n",
    "        \"средняя оценка\": average_grade\n",
    "    }\n",
    "\n",
    "\n",
    "# Тестовые данные\n",
    "test_students = [\n",
    "    \"Иван Петров,20,5,4,5\",\n",
    "    \"Мария Сидорова,19,3,4,3\",\n",
    "    \"Алексей Козлов,21,5,5,5\",\n",
    "    \"Анна Морозова,20,4,3,4\",\n",
    "    \"Некорректная строка\",\n",
    "    \"Петр Иванов,22,2,3,2\"\n",
    "]\n",
    "\n",
    "# Тесты для проверки\n",
    "print(\"Тесты для process_data:\")\n",
    "result = process_data(test_students)\n",
    "print(f\"Результат: {result}\")\n",
    "\n",
    "# Ожидаемый результат должен содержать:\n",
    "# - best_student: студент с наивысшей средней оценкой\n",
    "# - worst_student: студент с наименьшей средней оценкой  \n",
    "# - average_grade: общая средняя оценка всех студентов\n"
   ]
  }
 ],
 "metadata": {
  "kernelspec": {
   "display_name": "Python 3",
   "language": "python",
   "name": "python3"
  },
  "language_info": {
   "codemirror_mode": {
    "name": "ipython",
    "version": 3
   },
   "file_extension": ".py",
   "mimetype": "text/x-python",
   "name": "python",
   "nbconvert_exporter": "python",
   "pygments_lexer": "ipython3",
   "version": "3.9.13"
  }
 },
 "nbformat": 4,
 "nbformat_minor": 5
}
